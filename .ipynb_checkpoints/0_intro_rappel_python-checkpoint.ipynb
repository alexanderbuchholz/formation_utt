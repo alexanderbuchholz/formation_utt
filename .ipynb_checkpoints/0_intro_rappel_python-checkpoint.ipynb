{
 "cells": [
  {
   "cell_type": "markdown",
   "metadata": {},
   "source": [
    "# Rappel / mise à niveau à niveau python pour le data scientist\n",
    "\n",
    "## Alexander Buchholz, alexander.buchholz@ensae.fr, doctorant en fin de thèse à l'ENSAE\n",
    "\n",
    "Les élements de ce cours : https://github.com/alexanderbuchholz/formation_utt\n",
    "\n",
    "Formation de 3 jours à 4 heures\n",
    "* Basé sur des notebook ipython/ jupyter\n",
    "* Rappel de base de python\n",
    "* Calcul numérique avec numpy\n",
    "* Le module scipy pour les distributions\n",
    "* Visualisation avec matplotlib et seaborn\n",
    "* Stocker et traiter ses données avec pandas\n",
    "* Pour aller plus loin: notre premier modèle machine learning en utilisant sklearn\n",
    "* Si on a le temps : SQL\n",
    "\n",
    "Approache interactive:\n",
    "J'explique et vous lancez les programmes en même temps pour voir comment ça fonctionne\n",
    "\n"
   ]
  },
  {
   "cell_type": "markdown",
   "metadata": {},
   "source": [
    "D'autres resources: \n",
    "* https://github.com/paris-saclay-cds/python-workshop/blob/master/Day_1_Scientific_Python/01-numpy-introduction.ipynb\n",
    "* https://www.kaggle.com/learn/python\n",
    "\n",
    "Je recommande les tutoriels de kaggle, ils sont très bien fait et assez facile à suivre !\n",
    "\n",
    "https://www.kaggle.com/learn/overview\n",
    "\n",
    "Le livre \"Python Data Science Handbook\" de Jake VanderPlas, gratuit en ligne, assez complèt\n",
    "\n",
    "https://jakevdp.github.io/PythonDataScienceHandbook/\n"
   ]
  },
  {
   "cell_type": "markdown",
   "metadata": {},
   "source": [
    "On utilisera python 2.7\n",
    "\n",
    "Installer python et jupyter sur votre machine:\n",
    "\n",
    "De préference par anaconda : https://www.anaconda.com/\n",
    "\n",
    "# C'est parti ! "
   ]
  },
  {
   "cell_type": "code",
   "execution_count": 3,
   "metadata": {
    "collapsed": false
   },
   "outputs": [
    {
     "name": "stdout",
     "output_type": "stream",
     "text": [
      "Bonjour tout le monde!\n"
     ]
    }
   ],
   "source": [
    "first_string = \"Bonjour tout le monde!\"\n",
    "print(first_string)"
   ]
  },
  {
   "cell_type": "code",
   "execution_count": 4,
   "metadata": {
    "collapsed": false
   },
   "outputs": [
    {
     "data": {
      "text/plain": [
       "str"
      ]
     },
     "execution_count": 4,
     "metadata": {},
     "output_type": "execute_result"
    }
   ],
   "source": [
    "type(first_string)"
   ]
  },
  {
   "cell_type": "markdown",
   "metadata": {},
   "source": [
    "Combien de charactère ? "
   ]
  },
  {
   "cell_type": "code",
   "execution_count": 25,
   "metadata": {
    "collapsed": false
   },
   "outputs": [
    {
     "data": {
      "text/plain": [
       "22"
      ]
     },
     "execution_count": 25,
     "metadata": {},
     "output_type": "execute_result"
    }
   ],
   "source": [
    "len(first_string) # affiche le nombre de charactère"
   ]
  },
  {
   "cell_type": "code",
   "execution_count": 28,
   "metadata": {
    "collapsed": false
   },
   "outputs": [
    {
     "data": {
      "text/plain": [
       "'Bonjour tout le monde! Vous etes prets ?'"
      ]
     },
     "execution_count": 28,
     "metadata": {},
     "output_type": "execute_result"
    }
   ],
   "source": [
    "first_string+\" Vous etes prets ?\" # concatener des strings"
   ]
  },
  {
   "cell_type": "markdown",
   "metadata": {},
   "source": [
    "Les autres types: numeriques, listes, dictionnaires"
   ]
  },
  {
   "cell_type": "code",
   "execution_count": 9,
   "metadata": {
    "collapsed": false
   },
   "outputs": [
    {
     "data": {
      "text/plain": [
       "int"
      ]
     },
     "execution_count": 9,
     "metadata": {},
     "output_type": "execute_result"
    }
   ],
   "source": [
    "a_int = 10\n",
    "type(a_int)"
   ]
  },
  {
   "cell_type": "code",
   "execution_count": 11,
   "metadata": {
    "collapsed": false
   },
   "outputs": [
    {
     "data": {
      "text/plain": [
       "float"
      ]
     },
     "execution_count": 11,
     "metadata": {},
     "output_type": "execute_result"
    }
   ],
   "source": [
    "b_numerique = 2.5\n",
    "type(b_numerique)"
   ]
  },
  {
   "cell_type": "code",
   "execution_count": 12,
   "metadata": {
    "collapsed": false
   },
   "outputs": [
    {
     "data": {
      "text/plain": [
       "4.0"
      ]
     },
     "execution_count": 12,
     "metadata": {},
     "output_type": "execute_result"
    }
   ],
   "source": [
    "a_int/b_numerique"
   ]
  },
  {
   "cell_type": "markdown",
   "metadata": {},
   "source": [
    "Mais attention à la division int/int"
   ]
  },
  {
   "cell_type": "code",
   "execution_count": 13,
   "metadata": {
    "collapsed": false
   },
   "outputs": [
    {
     "data": {
      "text/plain": [
       "2"
      ]
     },
     "execution_count": 13,
     "metadata": {},
     "output_type": "execute_result"
    }
   ],
   "source": [
    "10/4"
   ]
  },
  {
   "cell_type": "markdown",
   "metadata": {},
   "source": [
    "Les listes"
   ]
  },
  {
   "cell_type": "code",
   "execution_count": 20,
   "metadata": {
    "collapsed": false
   },
   "outputs": [
    {
     "data": {
      "text/plain": [
       "(list, 3)"
      ]
     },
     "execution_count": 20,
     "metadata": {},
     "output_type": "execute_result"
    }
   ],
   "source": [
    "first_list = [4, 5., 6]\n",
    "type(first_list), len(first_list)"
   ]
  },
  {
   "cell_type": "markdown",
   "metadata": {},
   "source": [
    "### Mannipuler les listes: "
   ]
  },
  {
   "cell_type": "code",
   "execution_count": 21,
   "metadata": {
    "collapsed": false
   },
   "outputs": [
    {
     "name": "stdout",
     "output_type": "stream",
     "text": [
      "[4, 5.0, 6, 7.0]\n"
     ]
    }
   ],
   "source": [
    "first_list.append(7.)\n",
    "print first_list"
   ]
  },
  {
   "cell_type": "markdown",
   "metadata": {},
   "source": [
    "Un autre piège dans python : "
   ]
  },
  {
   "cell_type": "code",
   "execution_count": 23,
   "metadata": {
    "collapsed": false
   },
   "outputs": [
    {
     "name": "stdout",
     "output_type": "stream",
     "text": [
      "[4, 5.0, 6, 7.0]\n"
     ]
    }
   ],
   "source": [
    "second_list = first_list\n",
    "print(second_list)"
   ]
  },
  {
   "cell_type": "code",
   "execution_count": 24,
   "metadata": {
    "collapsed": false
   },
   "outputs": [
    {
     "name": "stdout",
     "output_type": "stream",
     "text": [
      "['a', 5.0, 6, 7.0]\n"
     ]
    }
   ],
   "source": [
    "second_list[0] = 'a'\n",
    "print first_list"
   ]
  },
  {
   "cell_type": "markdown",
   "metadata": {},
   "source": [
    "second_list \"pointe\" vert first list, on a modifié first list!\n",
    "\n",
    "La compréhension de liste, un outil très pratique !"
   ]
  },
  {
   "cell_type": "code",
   "execution_count": 40,
   "metadata": {
    "collapsed": false
   },
   "outputs": [],
   "source": [
    "list_of_numbers = range(12) # pour gener une sequence\n",
    "list_of_numbers_added = [i_number**2 for i_number in list_of_numbers ]"
   ]
  },
  {
   "cell_type": "code",
   "execution_count": 42,
   "metadata": {
    "collapsed": false
   },
   "outputs": [
    {
     "data": {
      "text/plain": [
       "[0, 1, 4, 9, 16, 25, 36, 49, 64, 81, 100, 121]"
      ]
     },
     "execution_count": 42,
     "metadata": {},
     "output_type": "execute_result"
    }
   ],
   "source": [
    "list_of_numbers_added"
   ]
  },
  {
   "cell_type": "code",
   "execution_count": 44,
   "metadata": {
    "collapsed": false
   },
   "outputs": [
    {
     "data": {
      "text/plain": [
       "[0, 1, 4, 9, 16, 25, 36, 49, 64, 81, 100, 121]"
      ]
     },
     "execution_count": 44,
     "metadata": {},
     "output_type": "execute_result"
    }
   ],
   "source": [
    "# on peut faire la meme chose avec une boucle for:\n",
    "list_of_numbers_added_loop = []\n",
    "for i_number in list_of_numbers:\n",
    "    list_of_numbers_added_loop.append(i_number**2)\n",
    "list_of_numbers_added_loop"
   ]
  },
  {
   "cell_type": "markdown",
   "metadata": {},
   "source": [
    "En python les boucles sont lents !\n",
    "\n",
    "A eviter si possible ! \n",
    "\n",
    "### Maintenant les fonctions:"
   ]
  },
  {
   "cell_type": "code",
   "execution_count": 56,
   "metadata": {
    "collapsed": false
   },
   "outputs": [
    {
     "name": "stdout",
     "output_type": "stream",
     "text": [
      "[0, 1, 4, 9, 16, 25, 36, 49, 64, 81, 100, 121]\n",
      "[0, 1, 4, 9, 16, 25, 36, 49, 64, 81, 100, 121]\n"
     ]
    }
   ],
   "source": [
    "# passons par des fonctions maintenant\n",
    "def squared_number_loop(max_number):\n",
    "    list_numbers = []\n",
    "    for i_number in range(max_number):\n",
    "        list_numbers.append(i_number**2)\n",
    "    return list_numbers\n",
    "\n",
    "def squared_number_list_comp(max_number):\n",
    "    list_of_numbers = [i_number**2 for i_number in range(max_number) ]\n",
    "    return list_of_numbers\n",
    "print squared_number_loop(12)\n",
    "print squared_number_list_comp(12)\n",
    "      "
   ]
  },
  {
   "cell_type": "markdown",
   "metadata": {},
   "source": [
    "Comparons la vitesses des deux:"
   ]
  },
  {
   "cell_type": "code",
   "execution_count": 54,
   "metadata": {
    "collapsed": false
   },
   "outputs": [
    {
     "name": "stdout",
     "output_type": "stream",
     "text": [
      "1000000 loops, best of 3: 1.7 µs per loop\n"
     ]
    }
   ],
   "source": [
    "%timeit squared_number_loop(12)"
   ]
  },
  {
   "cell_type": "code",
   "execution_count": 55,
   "metadata": {
    "collapsed": false
   },
   "outputs": [
    {
     "name": "stdout",
     "output_type": "stream",
     "text": [
      "The slowest run took 5.66 times longer than the fastest. This could mean that an intermediate result is being cached.\n",
      "1000000 loops, best of 3: 1.22 µs per loop\n"
     ]
    }
   ],
   "source": [
    "%timeit squared_number_list_comp(12)"
   ]
  },
  {
   "cell_type": "markdown",
   "metadata": {},
   "source": [
    "Deux mots en plus sur les fonctions:"
   ]
  },
  {
   "cell_type": "code",
   "execution_count": 29,
   "metadata": {
    "collapsed": false
   },
   "outputs": [
    {
     "name": "stdout",
     "output_type": "stream",
     "text": [
      "Hello\n",
      "Hello my friend\n"
     ]
    }
   ],
   "source": [
    "def function_with_keywords(mots1, mots2=\"\"):\n",
    "    print mots1+mots2\n",
    "function_with_keywords('Hello')\n",
    "function_with_keywords('Hello', mots2=' my friend')"
   ]
  },
  {
   "cell_type": "code",
   "execution_count": null,
   "metadata": {
    "collapsed": false
   },
   "outputs": [],
   "source": []
  },
  {
   "cell_type": "code",
   "execution_count": null,
   "metadata": {
    "collapsed": false
   },
   "outputs": [],
   "source": []
  },
  {
   "cell_type": "markdown",
   "metadata": {},
   "source": [
    "## Les boucles while"
   ]
  },
  {
   "cell_type": "code",
   "execution_count": 3,
   "metadata": {
    "collapsed": false
   },
   "outputs": [
    {
     "name": "stdout",
     "output_type": "stream",
     "text": [
      "0\n",
      "1\n",
      "2\n",
      "3\n",
      "4\n"
     ]
    }
   ],
   "source": [
    "i_iter = 0\n",
    "while i_iter < 5: # on evalue tant que la condition est juste\n",
    "    print i_iter\n",
    "    i_iter += 1 # une autre façon d'écrire i_iter = i_iter + 1\n"
   ]
  },
  {
   "cell_type": "markdown",
   "metadata": {},
   "source": [
    "## Un point fort de python : iterer au sein des iterables \n",
    "Un exemple:"
   ]
  },
  {
   "cell_type": "code",
   "execution_count": 26,
   "metadata": {
    "collapsed": false
   },
   "outputs": [
    {
     "name": "stdout",
     "output_type": "stream",
     "text": [
      "1\n",
      "2\n",
      "3\n",
      "4\n",
      "5\n",
      "6\n",
      "7\n",
      "8\n",
      "9\n"
     ]
    }
   ],
   "source": [
    "list_to_iterate = [[1,2,3], [4,5,6], [7,8,9]]\n",
    "\n",
    "for inner_list in list_to_iterate:\n",
    "    for element in inner_list:\n",
    "        print element"
   ]
  },
  {
   "cell_type": "markdown",
   "metadata": {},
   "source": [
    "## Les booléen et les condidition"
   ]
  },
  {
   "cell_type": "code",
   "execution_count": 63,
   "metadata": {
    "collapsed": false
   },
   "outputs": [
    {
     "name": "stdout",
     "output_type": "stream",
     "text": [
      "le numero vaut ni zero ni un\n"
     ]
    }
   ],
   "source": [
    "a = 2\n",
    "if a == 0:\n",
    "    print 'le numero vaut zero'\n",
    "elif a == 1: \n",
    "    print 'le numero vaut un'\n",
    "else:\n",
    "    print 'le numero vaut ni zero ni un'"
   ]
  },
  {
   "cell_type": "markdown",
   "metadata": {},
   "source": [
    "les dictionnaires : votre structure par défaut si vous données commencent à devenir compliquées"
   ]
  },
  {
   "cell_type": "code",
   "execution_count": 64,
   "metadata": {
    "collapsed": true
   },
   "outputs": [],
   "source": [
    "dict_telefon = {'alex' : '0633', 'marie' : '0755', 'pierre' : '9867'} # basé sur la structure clé : entrée"
   ]
  },
  {
   "cell_type": "code",
   "execution_count": 71,
   "metadata": {
    "collapsed": false
   },
   "outputs": [
    {
     "name": "stdout",
     "output_type": "stream",
     "text": [
      "0633\n"
     ]
    }
   ],
   "source": [
    "# pour acceder les elements: \n",
    "print dict_telefon['alex']\n",
    "# pour en ajouter:\n",
    "dict_telefon['alice'] = '4423'"
   ]
  },
  {
   "cell_type": "code",
   "execution_count": 72,
   "metadata": {
    "collapsed": false
   },
   "outputs": [
    {
     "name": "stdout",
     "output_type": "stream",
     "text": [
      "J'appelle marie avec le numero 0755\n",
      "J'appelle alex avec le numero 0633\n",
      "J'appelle pierre avec le numero 9867\n",
      "J'appelle alice avec le numero 4423\n"
     ]
    }
   ],
   "source": [
    "# on lance les appels: \n",
    "for key, item in dict_telefon.items():\n",
    "    print 'J\\'appelle %s avec le numero %s'  %(key, item) # permet d'inserer les elements"
   ]
  },
  {
   "cell_type": "markdown",
   "metadata": {},
   "source": [
    "## Des libraries outils: pickle, os, sys\n",
    "\n",
    "On va dabord afficher notre structure de dossier et créer un nouveau dossier, puis le supprimer"
   ]
  },
  {
   "cell_type": "code",
   "execution_count": 18,
   "metadata": {
    "collapsed": false
   },
   "outputs": [
    {
     "name": "stdout",
     "output_type": "stream",
     "text": [
      "/home/alex/python_programming/utt_formation\n",
      "['1_numpy.ipynb', '3_scipy.ipynb', '.git', '0_intro_rappel_python.ipynb', 'test_folder_1', '2_matplotlib.ipynb', '.ipynb_checkpoints', 'README.md']\n",
      "['1_numpy.ipynb', '3_scipy.ipynb', '.git', '0_intro_rappel_python.ipynb', '2_matplotlib.ipynb', '.ipynb_checkpoints', 'README.md']\n"
     ]
    }
   ],
   "source": [
    "import os\n",
    "#import sys\n",
    "import pickle\n",
    "#help(pickle)\n",
    "print os.getcwd()\n",
    "current_dir = os.getcwd()\n",
    "string_for_new_directory = \"/test_folder_1\"\n",
    "# on va créer un nouveau fichier\n",
    "os.mkdir(current_dir+string_for_new_directory)\n",
    "# on affiche la liste des tous les éléments dans le fichier actuel\n",
    "print os.listdir(current_dir)\n",
    "\n",
    "# on peut aussi le supprimer\n",
    "os.rmdir(current_dir+string_for_new_directory)\n",
    "\n",
    "print os.listdir(current_dir)\n",
    "# le ficher n'est plus là !"
   ]
  },
  {
   "cell_type": "markdown",
   "metadata": {},
   "source": [
    "Maintenant on va enregistrer des objets python à l'aide du module pickle"
   ]
  },
  {
   "cell_type": "code",
   "execution_count": 27,
   "metadata": {
    "collapsed": false
   },
   "outputs": [
    {
     "name": "stdout",
     "output_type": "stream",
     "text": [
      "['bonjour_string.pkl', '1_numpy.ipynb', '3_scipy.ipynb', '.git', '0_intro_rappel_python.ipynb', '2_matplotlib.ipynb', '.ipynb_checkpoints', 'README.md']\n",
      "Bonjour, vous etes toujours la ?\n",
      "Bonjour, vous etes toujours la ?\n"
     ]
    }
   ],
   "source": [
    "bonjour_string = 'Bonjour, vous etes toujours la ?'\n",
    "pickle.dump(bonjour_string, file('bonjour_string.pkl', \"wb\"))\n",
    "#help(pickle.dump)\n",
    "print os.listdir(current_dir)\n",
    "\n",
    "quel_string = pickle.load(file('bonjour_string.pkl', \"rb\"))\n",
    "print quel_string\n",
    "\n",
    "# ou plus propre : ça permet de refermer la connection vers le fichier après utilisation\n",
    "with file('bonjour_string.pkl', \"rb\") as file_to_load:\n",
    "    quel_string_2 = pickle.load(file_to_load)\n",
    "    print quel_string_2"
   ]
  },
  {
   "cell_type": "markdown",
   "metadata": {},
   "source": [
    "## La programmation orientée objet"
   ]
  },
  {
   "cell_type": "code",
   "execution_count": 23,
   "metadata": {
    "collapsed": true
   },
   "outputs": [],
   "source": [
    "class compte_bancaire(object):\n",
    "    \"\"\"\n",
    "    un compte bancaire\n",
    "    \"\"\"\n",
    "    def __init__(self, name, montant_initial):\n",
    "        \"\"\"\n",
    "        l'initialization, on crée une instance de la classe 'compte_bancaire'\n",
    "        on a besoin du nom et du montant initial\n",
    "        \"\"\"\n",
    "        assert type(name) is str\n",
    "        assert type(montant_initial) is float or type(montant_initial) is int\n",
    "        \n",
    "        self.name = name\n",
    "        self.montant_initial = montant_initial\n",
    "        self.montant_courant = montant_initial\n",
    "        \n",
    "    def depot_darget(self, montant):\n",
    "        self.montant_courant += montant\n",
    "        print 'Vous avez deposer %s euro et votre montant courant et maintant de %s euro' % (montant, self.montant_courant)\n",
    "    def retrait_darget(self, montant):\n",
    "        self.montant_courant -= montant\n",
    "        print 'Vous avez retirer %s euro et votre montant courant et maintant de %s euro' % (montant, self.montant_courant)\n",
    "        if self.montant_courant < 0: \n",
    "            print 'Attention! Vous etes dans le négatif!'\n",
    "\n",
    "class compte_bancaire_gold(compte_bancaire):\n",
    "    def payer_par_carte_de_credit(self, montant):\n",
    "        self.montant_courant -= montant\n",
    "        print 'Vous avez payé avec votre carte %s euro et votre montant courant et maintant de %s euro' % (montant, self.montant_courant)"
   ]
  },
  {
   "cell_type": "code",
   "execution_count": 26,
   "metadata": {
    "collapsed": false
   },
   "outputs": [
    {
     "name": "stdout",
     "output_type": "stream",
     "text": [
      "Vous avez deposer 10 euro et votre montant courant et maintant de 110 euro\n",
      "Vous avez retirer 120 euro et votre montant courant et maintant de -10 euro\n",
      "Attention! Vous etes dans le négatif!\n"
     ]
    },
    {
     "ename": "AttributeError",
     "evalue": "'compte_bancaire' object has no attribute 'payer_par_carte_de_credit'",
     "output_type": "error",
     "traceback": [
      "\u001b[0;31m---------------------------------------------------------------------------\u001b[0m",
      "\u001b[0;31mAttributeError\u001b[0m                            Traceback (most recent call last)",
      "\u001b[0;32m<ipython-input-26-b65025bf7461>\u001b[0m in \u001b[0;36m<module>\u001b[0;34m()\u001b[0m\n\u001b[1;32m      2\u001b[0m \u001b[0mcompte_alex\u001b[0m\u001b[0;34m.\u001b[0m\u001b[0mdepot_darget\u001b[0m\u001b[0;34m(\u001b[0m\u001b[0;36m10\u001b[0m\u001b[0;34m)\u001b[0m\u001b[0;34m\u001b[0m\u001b[0m\n\u001b[1;32m      3\u001b[0m \u001b[0mcompte_alex\u001b[0m\u001b[0;34m.\u001b[0m\u001b[0mretrait_darget\u001b[0m\u001b[0;34m(\u001b[0m\u001b[0;36m120\u001b[0m\u001b[0;34m)\u001b[0m\u001b[0;34m\u001b[0m\u001b[0m\n\u001b[0;32m----> 4\u001b[0;31m \u001b[0mcompte_alex\u001b[0m\u001b[0;34m.\u001b[0m\u001b[0mpayer_par_carte_de_credit\u001b[0m\u001b[0;34m(\u001b[0m\u001b[0;36m10\u001b[0m\u001b[0;34m)\u001b[0m\u001b[0;34m\u001b[0m\u001b[0m\n\u001b[0m",
      "\u001b[0;31mAttributeError\u001b[0m: 'compte_bancaire' object has no attribute 'payer_par_carte_de_credit'"
     ]
    }
   ],
   "source": [
    "compte_alex = compte_bancaire('alex', 100)\n",
    "compte_alex.depot_darget(10)\n",
    "compte_alex.retrait_darget(120)\n",
    "compte_alex.payer_par_carte_de_credit(10)"
   ]
  },
  {
   "cell_type": "code",
   "execution_count": 22,
   "metadata": {
    "collapsed": false
   },
   "outputs": [
    {
     "data": {
      "text/plain": [
       "-10"
      ]
     },
     "execution_count": 22,
     "metadata": {},
     "output_type": "execute_result"
    }
   ],
   "source": [
    "compte_alex.montant_courant"
   ]
  },
  {
   "cell_type": "markdown",
   "metadata": {},
   "source": [
    "## Exercise 1: \n",
    "Ecrire une pemiere fonction qui construit un dictionnaire de longeur N, avec les clés str(i) et i va de 0 a N-1 et les valeurs qui equivant i^3\n",
    "Puis ecrire une deuxieme fonction qui parcours le dictionnaire et qui ajoute à chaque valeurs impaires + 1 (on se retrouve à la fin avec un dictionnaire qui contient que des valeurs paire). \n",
    "Lancer et visualiser pour N = 5, N = 10."
   ]
  },
  {
   "cell_type": "markdown",
   "metadata": {},
   "source": [
    "## Exercise 2: \n",
    "Modifier les dictionnaire dict_telefon et en faire un dictionnaire de dictionnaire, a chaque personne sera associé un numbero de telephone et une adresse mail. Pour les addresse mail utiliser nom@dataspecialiste.ai. \n",
    "Puis ecrire une fonction qui écrit un texte de la forme \n",
    "\"bonjour x, j'ai essayé de vous joindre sous l'adresse xxx et le numero yyyy. Pourriez vous me rappeller svp?\""
   ]
  },
  {
   "cell_type": "markdown",
   "metadata": {},
   "source": [
    "### Pour les rapides: \n",
    "Pour encore aller plus loin créer un fichier appart que vous importez. Google est votre ami pour toute question de programmation!"
   ]
  },
  {
   "cell_type": "code",
   "execution_count": null,
   "metadata": {
    "collapsed": true
   },
   "outputs": [],
   "source": []
  }
 ],
 "metadata": {
  "kernelspec": {
   "display_name": "Python 2",
   "language": "python",
   "name": "python2"
  },
  "language_info": {
   "codemirror_mode": {
    "name": "ipython",
    "version": 2
   },
   "file_extension": ".py",
   "mimetype": "text/x-python",
   "name": "python",
   "nbconvert_exporter": "python",
   "pygments_lexer": "ipython2",
   "version": "2.7.12"
  }
 },
 "nbformat": 4,
 "nbformat_minor": 2
}
