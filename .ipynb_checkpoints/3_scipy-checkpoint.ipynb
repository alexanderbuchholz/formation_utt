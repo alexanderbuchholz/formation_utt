{
 "cells": [
  {
   "cell_type": "markdown",
   "metadata": {},
   "source": [
    "# Introduction à scipy\n",
    "Nous passons maintenant à scipy. \n",
    "Scipy est une collection de fonction diverse telle que des fonction pour l'optimisation, les distribution ou l'integration.\n",
    "Pour plus d'info voir https://docs.scipy.org/doc/scipy-1.0.0/reference/tutorial/general.html"
   ]
  }
 ],
 "metadata": {
  "kernelspec": {
   "display_name": "Python 2",
   "language": "python",
   "name": "python2"
  },
  "language_info": {
   "codemirror_mode": {
    "name": "ipython",
    "version": 2
   },
   "file_extension": ".py",
   "mimetype": "text/x-python",
   "name": "python",
   "nbconvert_exporter": "python",
   "pygments_lexer": "ipython2",
   "version": "2.7.12"
  }
 },
 "nbformat": 4,
 "nbformat_minor": 2
}
