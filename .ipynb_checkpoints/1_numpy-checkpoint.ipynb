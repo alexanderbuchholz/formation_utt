{
 "cells": [
  {
   "cell_type": "markdown",
   "metadata": {},
   "source": [
    "# Introduction à numpy\n",
    "Pour stocker des valeurs numeriques on se sert de la librarie numpy. Elle permet un calcul très efficace et rapide en utilisant des vecteurs et matrices. On utilise la convention"
   ]
  },
  {
   "cell_type": "code",
   "execution_count": 2,
   "metadata": {
    "collapsed": true
   },
   "outputs": [],
   "source": [
    "import numpy as np"
   ]
  },
  {
   "cell_type": "code",
   "execution_count": 3,
   "metadata": {
    "collapsed": false
   },
   "outputs": [
    {
     "name": "stdout",
     "output_type": "stream",
     "text": [
      "[1 2 3 4]\n"
     ]
    }
   ],
   "source": [
    "new_array = np.array([1, 2, 3, 4])\n",
    "print(new_array)"
   ]
  },
  {
   "cell_type": "markdown",
   "metadata": {},
   "source": [
    "Exercise: créer le vecteur qui contient [0, 5, 8, 10] et qui s'appelle a"
   ]
  },
  {
   "cell_type": "markdown",
   "metadata": {},
   "source": [
    "Maintenant on va gener des valeurs alléatoires pour jouer avec"
   ]
  },
  {
   "cell_type": "code",
   "execution_count": 4,
   "metadata": {
    "collapsed": true
   },
   "outputs": [],
   "source": [
    "dim, N_samples = 4, 20"
   ]
  },
  {
   "cell_type": "code",
   "execution_count": 5,
   "metadata": {
    "collapsed": false
   },
   "outputs": [],
   "source": [
    "np.random.seed(42) # pour s'assurer qu'on obient tous les memes valeurs !\n",
    "random_noise = np.random.randn(N_samples, dim) # a quoi correspond ça ?  "
   ]
  },
  {
   "cell_type": "code",
   "execution_count": 7,
   "metadata": {
    "collapsed": false
   },
   "outputs": [
    {
     "data": {
      "text/plain": [
       "(20, 4)"
      ]
     },
     "execution_count": 7,
     "metadata": {},
     "output_type": "execute_result"
    }
   ],
   "source": [
    "random_noise.shape"
   ]
  },
  {
   "cell_type": "code",
   "execution_count": 8,
   "metadata": {
    "collapsed": false
   },
   "outputs": [
    {
     "data": {
      "text/plain": [
       "array([[ 0.49671415, -0.1382643 ,  0.64768854,  1.52302986],\n",
       "       [-0.23415337, -0.23413696,  1.57921282,  0.76743473],\n",
       "       [-0.46947439,  0.54256004, -0.46341769, -0.46572975],\n",
       "       [ 0.24196227, -1.91328024, -1.72491783, -0.56228753],\n",
       "       [-1.01283112,  0.31424733, -0.90802408, -1.4123037 ],\n",
       "       [ 1.46564877, -0.2257763 ,  0.0675282 , -1.42474819],\n",
       "       [-0.54438272,  0.11092259, -1.15099358,  0.37569802],\n",
       "       [-0.60063869, -0.29169375, -0.60170661,  1.85227818],\n",
       "       [-0.01349722, -1.05771093,  0.82254491, -1.22084365],\n",
       "       [ 0.2088636 , -1.95967012, -1.32818605,  0.19686124],\n",
       "       [ 0.73846658,  0.17136828, -0.11564828, -0.3011037 ],\n",
       "       [-1.47852199, -0.71984421, -0.46063877,  1.05712223],\n",
       "       [ 0.34361829, -1.76304016,  0.32408397, -0.38508228],\n",
       "       [-0.676922  ,  0.61167629,  1.03099952,  0.93128012],\n",
       "       [-0.83921752, -0.30921238,  0.33126343,  0.97554513],\n",
       "       [-0.47917424, -0.18565898, -1.10633497, -1.19620662],\n",
       "       [ 0.81252582,  1.35624003, -0.07201012,  1.0035329 ],\n",
       "       [ 0.36163603, -0.64511975,  0.36139561,  1.53803657],\n",
       "       [-0.03582604,  1.56464366, -2.6197451 ,  0.8219025 ],\n",
       "       [ 0.08704707, -0.29900735,  0.09176078, -1.98756891]])"
      ]
     },
     "execution_count": 8,
     "metadata": {},
     "output_type": "execute_result"
    }
   ],
   "source": [
    "random_noise"
   ]
  },
  {
   "cell_type": "code",
   "execution_count": 9,
   "metadata": {
    "collapsed": false
   },
   "outputs": [
    {
     "name": "stdout",
     "output_type": "stream",
     "text": [
      "[ 0.49671415 -0.1382643   0.64768854  1.52302986]\n",
      "[ 0.49671415 -0.23415337 -0.46947439  0.24196227 -1.01283112  1.46564877\n",
      " -0.54438272 -0.60063869 -0.01349722  0.2088636   0.73846658 -1.47852199\n",
      "  0.34361829 -0.676922   -0.83921752 -0.47917424  0.81252582  0.36163603\n",
      " -0.03582604  0.08704707]\n",
      "-0.23413695694918055\n",
      "-1.9875689146008928\n",
      "[ 0.76743473 -0.46572975 -0.56228753 -1.4123037  -1.42474819  0.37569802\n",
      "  1.85227818 -1.22084365  0.19686124]\n"
     ]
    }
   ],
   "source": [
    "# choisir la premiere ligne:\n",
    "print random_noise[0,:]\n",
    "\n",
    "# choisir la pemiere colonne\n",
    "print random_noise[:,0]\n",
    "\n",
    "# choisir la valeur a la position 1, 1\n",
    "print random_noise[1,1]\n",
    "# choisir la derniere valeur\n",
    "print random_noise[-1, -1]\n",
    "\n",
    "# et on peut aussi choisir une plage de valeure:\n",
    "print random_noise[1:10, -1] # ca fait qoui exactement ??"
   ]
  },
  {
   "cell_type": "markdown",
   "metadata": {},
   "source": [
    "Ajouter le vecteur [1,2,3,4] a chaque ligne"
   ]
  },
  {
   "cell_type": "code",
   "execution_count": 11,
   "metadata": {
    "collapsed": false
   },
   "outputs": [
    {
     "data": {
      "text/plain": [
       "array([[ 1.49671415,  1.8617357 ,  3.64768854,  5.52302986],\n",
       "       [ 0.76584663,  1.76586304,  4.57921282,  4.76743473],\n",
       "       [ 0.53052561,  2.54256004,  2.53658231,  3.53427025],\n",
       "       [ 1.24196227,  0.08671976,  1.27508217,  3.43771247],\n",
       "       [-0.01283112,  2.31424733,  2.09197592,  2.5876963 ],\n",
       "       [ 2.46564877,  1.7742237 ,  3.0675282 ,  2.57525181],\n",
       "       [ 0.45561728,  2.11092259,  1.84900642,  4.37569802],\n",
       "       [ 0.39936131,  1.70830625,  2.39829339,  5.85227818],\n",
       "       [ 0.98650278,  0.94228907,  3.82254491,  2.77915635],\n",
       "       [ 1.2088636 ,  0.04032988,  1.67181395,  4.19686124],\n",
       "       [ 1.73846658,  2.17136828,  2.88435172,  3.6988963 ],\n",
       "       [-0.47852199,  1.28015579,  2.53936123,  5.05712223],\n",
       "       [ 1.34361829,  0.23695984,  3.32408397,  3.61491772],\n",
       "       [ 0.323078  ,  2.61167629,  4.03099952,  4.93128012],\n",
       "       [ 0.16078248,  1.69078762,  3.33126343,  4.97554513],\n",
       "       [ 0.52082576,  1.81434102,  1.89366503,  2.80379338],\n",
       "       [ 1.81252582,  3.35624003,  2.92798988,  5.0035329 ],\n",
       "       [ 1.36163603,  1.35488025,  3.36139561,  5.53803657],\n",
       "       [ 0.96417396,  3.56464366,  0.3802549 ,  4.8219025 ],\n",
       "       [ 1.08704707,  1.70099265,  3.09176078,  2.01243109]])"
      ]
     },
     "execution_count": 11,
     "metadata": {},
     "output_type": "execute_result"
    }
   ],
   "source": [
    "to_add = np.array([1,2,3,4])\n",
    "random_noise + to_add # numpy comprend tout seul ! "
   ]
  },
  {
   "cell_type": "code",
   "execution_count": 23,
   "metadata": {
    "collapsed": false
   },
   "outputs": [
    {
     "data": {
      "text/plain": [
       "(4, 1)"
      ]
     },
     "execution_count": 23,
     "metadata": {},
     "output_type": "execute_result"
    }
   ],
   "source": [
    "to_add[:, np.newaxis].shape"
   ]
  },
  {
   "cell_type": "markdown",
   "metadata": {},
   "source": [
    "Par contre"
   ]
  },
  {
   "cell_type": "code",
   "execution_count": 24,
   "metadata": {
    "collapsed": false
   },
   "outputs": [
    {
     "ename": "ValueError",
     "evalue": "operands could not be broadcast together with shapes (20,4) (4,1) ",
     "output_type": "error",
     "traceback": [
      "\u001b[0;31m---------------------------------------------------------------------------\u001b[0m",
      "\u001b[0;31mValueError\u001b[0m                                Traceback (most recent call last)",
      "\u001b[0;32m<ipython-input-24-00294f25aa1f>\u001b[0m in \u001b[0;36m<module>\u001b[0;34m()\u001b[0m\n\u001b[0;32m----> 1\u001b[0;31m \u001b[0mrandom_noise\u001b[0m \u001b[0;34m+\u001b[0m \u001b[0mto_add\u001b[0m\u001b[0;34m[\u001b[0m\u001b[0;34m:\u001b[0m\u001b[0;34m,\u001b[0m\u001b[0mnp\u001b[0m\u001b[0;34m.\u001b[0m\u001b[0mnewaxis\u001b[0m\u001b[0;34m]\u001b[0m \u001b[0;31m# attention au taille ! pour ajouter une nouvelle axes\u001b[0m\u001b[0;34m\u001b[0m\u001b[0m\n\u001b[0m",
      "\u001b[0;31mValueError\u001b[0m: operands could not be broadcast together with shapes (20,4) (4,1) "
     ]
    }
   ],
   "source": [
    "random_noise + to_add[:,np.newaxis] # attention au taille ! pour ajouter une nouvelle axes"
   ]
  },
  {
   "cell_type": "markdown",
   "metadata": {},
   "source": [
    "ce qui marche aussi: "
   ]
  },
  {
   "cell_type": "code",
   "execution_count": 25,
   "metadata": {
    "collapsed": false
   },
   "outputs": [
    {
     "data": {
      "text/plain": [
       "array([[ 0.24835708, -0.06913215,  0.32384427,  0.76151493],\n",
       "       [-0.11707669, -0.11706848,  0.78960641,  0.38371736],\n",
       "       [-0.23473719,  0.27128002, -0.23170885, -0.23286488],\n",
       "       [ 0.12098114, -0.95664012, -0.86245892, -0.28114376],\n",
       "       [-0.50641556,  0.15712367, -0.45401204, -0.70615185],\n",
       "       [ 0.73282438, -0.11288815,  0.0337641 , -0.71237409],\n",
       "       [-0.27219136,  0.05546129, -0.57549679,  0.18784901],\n",
       "       [-0.30031934, -0.14584687, -0.30085331,  0.92613909],\n",
       "       [-0.00674861, -0.52885546,  0.41127246, -0.61042182],\n",
       "       [ 0.1044318 , -0.97983506, -0.66409302,  0.09843062],\n",
       "       [ 0.36923329,  0.08568414, -0.05782414, -0.15055185],\n",
       "       [-0.739261  , -0.3599221 , -0.23031939,  0.52856111],\n",
       "       [ 0.17180914, -0.88152008,  0.16204198, -0.19254114],\n",
       "       [-0.338461  ,  0.30583814,  0.51549976,  0.46564006],\n",
       "       [-0.41960876, -0.15460619,  0.16563172,  0.48777256],\n",
       "       [-0.23958712, -0.09282949, -0.55316749, -0.59810331],\n",
       "       [ 0.40626291,  0.67812001, -0.03600506,  0.50176645],\n",
       "       [ 0.18081801, -0.32255988,  0.1806978 ,  0.76901828],\n",
       "       [-0.01791302,  0.78232183, -1.30987255,  0.41095125],\n",
       "       [ 0.04352353, -0.14950368,  0.04588039, -0.99378446]])"
      ]
     },
     "execution_count": 25,
     "metadata": {},
     "output_type": "execute_result"
    }
   ],
   "source": [
    "random_noise + 2\n",
    "random_noise/ 2"
   ]
  },
  {
   "cell_type": "markdown",
   "metadata": {},
   "source": [
    "On peut d'algebre: \n",
    "on calculera $X'X$, on calculera $(X'X)^{-1}$ avec random_noise et $X'X (X'X)^{-1}$"
   ]
  },
  {
   "cell_type": "code",
   "execution_count": null,
   "metadata": {
    "collapsed": false
   },
   "outputs": [],
   "source": [
    "np.dot(X.transpose(), X)"
   ]
  },
  {
   "cell_type": "code",
   "execution_count": 28,
   "metadata": {
    "collapsed": false
   },
   "outputs": [
    {
     "data": {
      "text/plain": [
       "array([[ 1.00000000e+00, -6.34422226e-19, -4.18746126e-19,\n",
       "         1.16927108e-17],\n",
       "       [-1.51450875e-18,  1.00000000e+00,  2.70755309e-18,\n",
       "        -1.61842194e-17],\n",
       "       [-7.08928072e-19,  3.21336902e-18,  1.00000000e+00,\n",
       "         1.42141654e-17],\n",
       "       [ 1.55949302e-17,  3.17779309e-17, -5.07100510e-19,\n",
       "         1.00000000e+00]])"
      ]
     },
     "execution_count": 28,
     "metadata": {},
     "output_type": "execute_result"
    }
   ],
   "source": [
    "X = random_noise\n",
    "X_prod = X.transpose().dot(X)\n",
    "X_prod_inv = np.linalg.inv(X.transpose().dot(X))\n",
    "X_prod.dot(X_prod_inv) # la difference vient des erreures numeriques\n"
   ]
  },
  {
   "cell_type": "markdown",
   "metadata": {},
   "source": [
    "Des fonctionnalité très utilies : "
   ]
  },
  {
   "cell_type": "code",
   "execution_count": 11,
   "metadata": {
    "collapsed": false
   },
   "outputs": [
    {
     "name": "stdout",
     "output_type": "stream",
     "text": [
      "[-0.08140784 -0.25353786 -0.26475727  0.10434236]\n",
      "-0.1238401516304394\n",
      "[ 0.63229206  0.4695893  -0.21401545 -0.98963083 -0.75472789 -0.02933688\n",
      " -0.30218892  0.08955978 -0.36737672 -0.72053284  0.12327072 -0.40047069\n",
      " -0.37010504  0.47425848  0.03959466 -0.7418437   0.77507216  0.40398711\n",
      " -0.06725625 -0.52694211]\n",
      "[0.46821147 0.84513301 0.96963441 1.24773181]\n",
      "[-1.62815674 -5.07075721 -5.29514532  2.08684713]\n"
     ]
    }
   ],
   "source": [
    "print X.mean(axis=0) \n",
    "# mais\n",
    "print X.mean() \n",
    "# et \n",
    "print X.mean(axis=1) \n",
    "print X.var(axis=0)\n",
    "print X.sum(axis=0)"
   ]
  },
  {
   "cell_type": "markdown",
   "metadata": {},
   "source": [
    "Que font les fonctions suivantes ? "
   ]
  },
  {
   "cell_type": "code",
   "execution_count": 5,
   "metadata": {
    "collapsed": false
   },
   "outputs": [
    {
     "data": {
      "text/plain": [
       "array([[1., 0., 0., 0., 0., 0., 0., 0., 0., 0.],\n",
       "       [0., 1., 0., 0., 0., 0., 0., 0., 0., 0.],\n",
       "       [0., 0., 1., 0., 0., 0., 0., 0., 0., 0.],\n",
       "       [0., 0., 0., 1., 0., 0., 0., 0., 0., 0.],\n",
       "       [0., 0., 0., 0., 1., 0., 0., 0., 0., 0.],\n",
       "       [0., 0., 0., 0., 0., 1., 0., 0., 0., 0.],\n",
       "       [0., 0., 0., 0., 0., 0., 1., 0., 0., 0.],\n",
       "       [0., 0., 0., 0., 0., 0., 0., 1., 0., 0.],\n",
       "       [0., 0., 0., 0., 0., 0., 0., 0., 1., 0.],\n",
       "       [0., 0., 0., 0., 0., 0., 0., 0., 0., 1.]])"
      ]
     },
     "execution_count": 5,
     "metadata": {},
     "output_type": "execute_result"
    }
   ],
   "source": [
    "np.ones(10)\n",
    "np.zeros(10)\n",
    "np.linspace(0,10)\n",
    "np.eye(10)"
   ]
  },
  {
   "cell_type": "markdown",
   "metadata": {},
   "source": [
    "Nous regardons maintenant des données sur l'inflamation pour des patients. \n",
    "Chaque ligne correspond à un patient et chaque colonne à la mesure d'un indicateur d'inflamation par jour. "
   ]
  },
  {
   "cell_type": "code",
   "execution_count": 30,
   "metadata": {
    "collapsed": true
   },
   "outputs": [],
   "source": [
    "data = np.loadtxt(fname='inflammation-01.csv', delimiter=',')"
   ]
  },
  {
   "cell_type": "markdown",
   "metadata": {},
   "source": [
    "## Exercise: \n",
    "    1. Combien de patient et combien de jour y a t-il dans la base ? \n",
    "    2. Quelle est la moyenne par jours/ par patient de l'indicateur ?\n",
    "    3. Selectionner les 10 patient et les 20 premiers jours\n",
    "    4. Quel est le max par patient/ par jour/ au total ?\n",
    "    5. Selectionner les patients dont l'indicateur dépasse au moins une fois la valeur 17\n",
    "    6. Calculer la moyenne par jour pour ces patients"
   ]
  },
  {
   "cell_type": "code",
   "execution_count": 41,
   "metadata": {
    "collapsed": false
   },
   "outputs": [
    {
     "name": "stdout",
     "output_type": "stream",
     "text": [
      "(60, 40)\n",
      "[ 0.          0.45        1.11666667  1.75        2.43333333  3.15\n",
      "  3.8         3.88333333  5.23333333  5.51666667  5.95        5.9\n",
      "  8.35        7.73333333  8.36666667  9.5         9.58333333 10.63333333\n",
      " 11.56666667 12.35       13.25       11.96666667 11.03333333 10.16666667\n",
      " 10.          8.66666667  9.15        7.25        7.33333333  6.58333333\n",
      "  6.06666667  5.95        5.11666667  3.6         3.3         3.56666667\n",
      "  2.48333333  1.5         1.13333333  0.56666667]\n",
      "[5.45  5.425 6.1   5.9   5.55  6.225 5.975 6.65  6.625 6.525 6.775 5.8\n",
      " 6.225 5.75  5.225 6.3   6.55  5.7   5.85  6.55  5.775 5.825 6.175 6.1\n",
      " 5.8   6.425 6.05  6.025 6.175 6.55  6.175 6.35  6.725 6.125 7.075 5.725\n",
      " 5.925 6.15  6.075 5.75  5.975 5.725 6.3   5.9   6.75  5.925 7.225 6.15\n",
      " 5.95  6.275 5.7   6.1   6.825 5.975 6.725 5.7   6.25  6.4   7.05  5.9  ]\n",
      "[[ 0.  0.  1.  3.  1.  2.  4.  7.  8.  3.  3.  3. 10.  5.  7.  4.  7.  7.\n",
      "  12. 18.]\n",
      " [ 0.  1.  2.  1.  2.  1.  3.  2.  2.  6. 10. 11.  5.  9.  4.  4.  7. 16.\n",
      "   8.  6.]\n",
      " [ 0.  1.  1.  3.  3.  2.  6.  2.  5.  9.  5.  7.  4.  5.  4. 15.  5. 11.\n",
      "   9. 10.]\n",
      " [ 0.  0.  2.  0.  4.  2.  2.  1.  6.  7. 10.  7.  9. 13.  8.  8. 15. 10.\n",
      "  10.  7.]\n",
      " [ 0.  1.  1.  3.  3.  1.  3.  5.  2.  4.  4.  7.  6.  5.  3. 10.  8. 10.\n",
      "   6. 17.]\n",
      " [ 0.  0.  1.  2.  2.  4.  2.  1.  6.  4.  7.  6.  6.  9.  9. 15.  4. 16.\n",
      "  18. 12.]\n",
      " [ 0.  0.  2.  2.  4.  2.  2.  5.  5.  8.  6.  5. 11.  9.  4. 13.  5. 12.\n",
      "  10.  6.]\n",
      " [ 0.  0.  1.  2.  3.  1.  2.  3.  5.  3.  7.  8.  8.  5. 10.  9. 15. 11.\n",
      "  18. 19.]\n",
      " [ 0.  0.  0.  3.  1.  5.  6.  5.  5.  8.  2.  4. 11. 12. 10. 11.  9. 10.\n",
      "  17. 11.]\n",
      " [ 0.  1.  1.  2.  1.  3.  5.  3.  5.  8.  6.  8. 12.  5. 13.  6. 13.  8.\n",
      "  16.  8.]]\n",
      "[ 0.  1.  2.  3.  4.  5.  6.  7.  8.  9. 10. 11. 12. 13. 14. 15. 16. 17.\n",
      " 18. 19. 20. 19. 18. 17. 16. 15. 14. 13. 12. 11. 10.  9.  8.  7.  6.  5.\n",
      "  4.  3.  2.  1.] [18. 18. 19. 17. 17. 18. 17. 20. 17. 18. 18. 18. 17. 16. 17. 18. 19. 19.\n",
      " 17. 19. 19. 16. 17. 15. 17. 17. 18. 17. 20. 17. 16. 19. 15. 15. 19. 17.\n",
      " 16. 17. 19. 16. 18. 19. 16. 19. 18. 16. 19. 15. 16. 18. 14. 20. 17. 15.\n",
      " 17. 16. 17. 19. 18. 18.] 20.0\n",
      "(28, 40)\n"
     ]
    }
   ],
   "source": [
    "print data.shape # solution 1\n",
    "print data.mean(axis=0) # solution 2\n",
    "print data.mean(axis=1) # solution 2\n",
    "print data.mean() # solution 2\n",
    "\n",
    "print data[:10, :20] # solution 3\n",
    "print data.max(axis=0), data.max(axis=1), data.max() # solution 4\n",
    "selector1 = data>=17\n",
    "selector2 = selector1.sum(axis=1)>0\n",
    "print data[selector2,:] # solution 5\n",
    "print data[selector2,:].mean(axis=1) # solution 6"
   ]
  },
  {
   "cell_type": "markdown",
   "metadata": {},
   "source": [
    "## Exercise: \n",
    "1. \n",
    "Faisons encore un pey d'algebre lineaire : \n",
    "On calcule les iterations suivantes\n",
    "$$\n",
    "b_{k+1} = \\frac{A b_k}{\\| A b_k \\|},\n",
    "$$\n",
    "avec la norme euclidienne. L'iteration converge vers la valeur propres la plus grande de $A$.\n",
    "On prendra $A = X'X$. \n",
    "Solution: https://en.wikipedia.org/wiki/Power_iteration. Ne regardez pas tout de suite !\n",
    "NB: vous avez besoin de definir un critere d'arret, on utilise une boucle while et on initialize $b_0$ avec un vecteur aléatoire.\n"
   ]
  },
  {
   "cell_type": "markdown",
   "metadata": {},
   "source": [
    "2. Soit n un entier. Ecrire une fonction qui renvoit \n",
    "$$\n",
    "(\\sum_{k=1}^n k ) ^2 - (\\sum_{k=1}^n k^2 )\n",
    "$$\n",
    "Pour $n=100$ on doit trouver $25164150$"
   ]
  },
  {
   "cell_type": "markdown",
   "metadata": {},
   "source": [
    "Pour les ambitieux : On cherche à trouver l'estimateur de maximum de vraisemblance pour une regression logistique. \n",
    "Pour rappel : ici on observe pour $i=1,...,50$ les valeurs $y_i \\in \\{0,1 \\}$ et $x_i \\in \\mathbb{R}$. On modèlise $y_i$ comme réalisation d'une loi de Bernoulli : $\\mathbb{P}(Y_i = 1)= p_i$. On a alors la vraisemblance $l(a,b) = \\prod_i p_i^{y_i} \\times (1-p_i)^{1-y_i}$ et $p_i = logit(a+bx_i)$ et $logit : x \\mapsto \\frac{1}{1+\\exp(-x)}$. \n",
    "On procède comme suit : \n",
    "* Fixer la seed du génerateur aléaetoire \n",
    "* Simuler x_i selon une loi normale centrée reduite\n",
    "* Fixer $(a,b)=(1, 0.5)$\n",
    "* Calculer $p_i$\n",
    "* Simuler les $y_i$ à l'aide d'une loi Bernoulli dans numpy\n",
    "* Ecrire une fonction qui renvoit la log-vraisemblance\n",
    "* Reflechir à une façon pour maximiser la log-vraisemblance. Quelles idées vous viennent à l'esprit ? Coder la et comparé avec les valeurs qu'on a fixé au début. D'ou vient la difference dans les resultats ?\n",
    "* Par exemple: recherche aléatoire, recuit simulé, descente de gradient, ..."
   ]
  },
  {
   "cell_type": "markdown",
   "metadata": {},
   "source": [
    "3. Ecrire une fonction qui renvoit le n-ième nombre entier. (pas forcement besoint d'utiliser numpy). \n",
    "Pour $n=10001$ on doit trouver 104743."
   ]
  },
  {
   "cell_type": "markdown",
   "metadata": {},
   "source": [
    "4. Le nombre 145 est égale au factoriel de ses chiffre: $145 = 1! + 4! + 5! = 1+20+120$. Ecricre un programme qui teste si c'est vrai pour un nombre. Puis écrire une boucles pour trouver les chiffres pour lesquels c'est vrai."
   ]
  }
 ],
 "metadata": {
  "kernelspec": {
   "display_name": "Python 2",
   "language": "python",
   "name": "python2"
  },
  "language_info": {
   "codemirror_mode": {
    "name": "ipython",
    "version": 2
   },
   "file_extension": ".py",
   "mimetype": "text/x-python",
   "name": "python",
   "nbconvert_exporter": "python",
   "pygments_lexer": "ipython2",
   "version": "2.7.12"
  }
 },
 "nbformat": 4,
 "nbformat_minor": 2
}
