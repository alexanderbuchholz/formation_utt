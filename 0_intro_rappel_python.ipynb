{
 "cells": [
  {
   "cell_type": "markdown",
   "metadata": {},
   "source": [
    "# Rappel / mise à niveau à niveau python pour le data scientist\n",
    "\n",
    "## Alexander Buchholz, alexander.buchholz@ensae.fr, doctorant en fin de thèse à l'ENSAE\n",
    "\n",
    "Les élements de ce cours : https://github.com/alexanderbuchholz/formation_utt\n",
    "\n",
    "Formation de 3 jours à 4 heures\n",
    "* Basé sur des notebook ipython/ jupyter\n",
    "* Rappel de base de python\n",
    "* Calcul numérique avec numpy\n",
    "* Le module scipy pour les distributions\n",
    "* Visualisation avec matplotlib et seaborn\n",
    "* Stocker et traiter ses données avec pandas\n",
    "* Pour aller plus loin: notre premier modèle machine learning en utilisant sklearn\n",
    "* Si on a le temps : SQL\n",
    "\n",
    "Approache interactive:\n",
    "J'explique et vous lancez les programmes en même temps pour voir comment ça fonctionne\n",
    "\n"
   ]
  },
  {
   "cell_type": "markdown",
   "metadata": {},
   "source": [
    "D'autres resources: \n",
    "* https://github.com/paris-saclay-cds/python-workshop/blob/master/Day_1_Scientific_Python/01-numpy-introduction.ipynb\n",
    "* https://www.kaggle.com/learn/python\n",
    "\n",
    "Je recommande les tutoriels de kaggle, ils sont très bien fait et assez facile à suivre !\n",
    "\n",
    "https://www.kaggle.com/learn/overview\n",
    "\n",
    "Le livre \"Python Data Science Handbook\" de Jake VanderPlas, gratuit en ligne, assez complèt\n",
    "\n",
    "https://jakevdp.github.io/PythonDataScienceHandbook/\n"
   ]
  },
  {
   "cell_type": "markdown",
   "metadata": {},
   "source": [
    "On utilisera python 2.7\n",
    "\n",
    "Installer python et jupyter sur votre machine:\n",
    "\n",
    "De préference par anaconda : https://www.anaconda.com/\n",
    "\n",
    "# C'est parti ! "
   ]
  },
  {
   "cell_type": "code",
   "execution_count": null,
   "metadata": {
    "collapsed": false
   },
   "outputs": [],
   "source": [
    "first_string = \"Bonjour tout le monde!\"\n",
    "print(first_string)"
   ]
  },
  {
   "cell_type": "code",
   "execution_count": null,
   "metadata": {
    "collapsed": false
   },
   "outputs": [],
   "source": [
    "type(first_string)"
   ]
  },
  {
   "cell_type": "markdown",
   "metadata": {},
   "source": [
    "Combien de charactère ? "
   ]
  },
  {
   "cell_type": "code",
   "execution_count": null,
   "metadata": {
    "collapsed": false
   },
   "outputs": [],
   "source": [
    "len(first_string) # affiche le nombre de charactère"
   ]
  },
  {
   "cell_type": "code",
   "execution_count": null,
   "metadata": {
    "collapsed": false
   },
   "outputs": [],
   "source": [
    "first_string+\" Vous etes prets ?\" # concatener des strings"
   ]
  },
  {
   "cell_type": "markdown",
   "metadata": {},
   "source": [
    "Les autres types: numeriques, listes, dictionnaires"
   ]
  },
  {
   "cell_type": "code",
   "execution_count": null,
   "metadata": {
    "collapsed": false
   },
   "outputs": [],
   "source": [
    "a_int = 10\n",
    "type(a_int)"
   ]
  },
  {
   "cell_type": "code",
   "execution_count": null,
   "metadata": {
    "collapsed": false
   },
   "outputs": [],
   "source": [
    "b_numerique = 2.5\n",
    "type(b_numerique)"
   ]
  },
  {
   "cell_type": "code",
   "execution_count": null,
   "metadata": {
    "collapsed": false
   },
   "outputs": [],
   "source": [
    "a_int/b_numerique"
   ]
  },
  {
   "cell_type": "markdown",
   "metadata": {},
   "source": [
    "Mais attention à la division int/int"
   ]
  },
  {
   "cell_type": "code",
   "execution_count": null,
   "metadata": {
    "collapsed": false
   },
   "outputs": [],
   "source": [
    "10/4"
   ]
  },
  {
   "cell_type": "markdown",
   "metadata": {},
   "source": [
    "Les listes"
   ]
  },
  {
   "cell_type": "code",
   "execution_count": null,
   "metadata": {
    "collapsed": false
   },
   "outputs": [],
   "source": [
    "first_list = [4, 5., 6]\n",
    "type(first_list), len(first_list)"
   ]
  },
  {
   "cell_type": "markdown",
   "metadata": {},
   "source": [
    "### Mannipuler les listes: "
   ]
  },
  {
   "cell_type": "code",
   "execution_count": null,
   "metadata": {
    "collapsed": false
   },
   "outputs": [],
   "source": [
    "first_list.append(7.)\n",
    "print first_list"
   ]
  },
  {
   "cell_type": "markdown",
   "metadata": {},
   "source": [
    "Un autre piège dans python : "
   ]
  },
  {
   "cell_type": "code",
   "execution_count": null,
   "metadata": {
    "collapsed": false
   },
   "outputs": [],
   "source": [
    "second_list = first_list\n",
    "print(second_list)"
   ]
  },
  {
   "cell_type": "code",
   "execution_count": null,
   "metadata": {
    "collapsed": false
   },
   "outputs": [],
   "source": [
    "second_list[0] = 'a'\n",
    "print first_list"
   ]
  },
  {
   "cell_type": "markdown",
   "metadata": {},
   "source": [
    "second_list \"pointe\" vert first list, on a modifié first list!\n",
    "\n",
    "La compréhension de liste, un outil très pratique !"
   ]
  },
  {
   "cell_type": "code",
   "execution_count": null,
   "metadata": {
    "collapsed": false
   },
   "outputs": [],
   "source": [
    "list_of_numbers = range(12) # pour gener une sequence\n",
    "list_of_numbers_added = [i_number**2 for i_number in list_of_numbers ]"
   ]
  },
  {
   "cell_type": "code",
   "execution_count": null,
   "metadata": {
    "collapsed": false
   },
   "outputs": [],
   "source": [
    "list_of_numbers_added"
   ]
  },
  {
   "cell_type": "code",
   "execution_count": null,
   "metadata": {
    "collapsed": false
   },
   "outputs": [],
   "source": [
    "# on peut faire la meme chose avec une boucle for:\n",
    "list_of_numbers_added_loop = []\n",
    "for i_number in list_of_numbers:\n",
    "    list_of_numbers_added_loop.append(i_number**2)\n",
    "list_of_numbers_added_loop"
   ]
  },
  {
   "cell_type": "markdown",
   "metadata": {},
   "source": [
    "En python les boucles sont lents !\n",
    "\n",
    "A eviter si possible ! \n",
    "\n",
    "### Maintenant les fonctions:"
   ]
  },
  {
   "cell_type": "code",
   "execution_count": null,
   "metadata": {
    "collapsed": false
   },
   "outputs": [],
   "source": [
    "# passons par des fonctions maintenant\n",
    "def squared_number_loop(max_number):\n",
    "    list_numbers = []\n",
    "    for i_number in range(max_number):\n",
    "        list_numbers.append(i_number**2)\n",
    "    return list_numbers\n",
    "\n",
    "def squared_number_list_comp(max_number):\n",
    "    list_of_numbers = [i_number**2 for i_number in range(max_number) ]\n",
    "    return list_of_numbers\n",
    "print squared_number_loop(12)\n",
    "print squared_number_list_comp(12)\n",
    "      "
   ]
  },
  {
   "cell_type": "markdown",
   "metadata": {},
   "source": [
    "Comparons la vitesses des deux:"
   ]
  },
  {
   "cell_type": "code",
   "execution_count": null,
   "metadata": {
    "collapsed": false
   },
   "outputs": [],
   "source": [
    "%timeit squared_number_loop(12)"
   ]
  },
  {
   "cell_type": "code",
   "execution_count": null,
   "metadata": {
    "collapsed": false
   },
   "outputs": [],
   "source": [
    "%timeit squared_number_list_comp(12)"
   ]
  },
  {
   "cell_type": "markdown",
   "metadata": {},
   "source": [
    "Deux mots en plus sur les fonctions:"
   ]
  },
  {
   "cell_type": "code",
   "execution_count": null,
   "metadata": {
    "collapsed": false
   },
   "outputs": [],
   "source": [
    "def function_with_keywords(mots1, mots2=\"\"):\n",
    "    print mots1+mots2\n",
    "function_with_keywords('Hello')\n",
    "function_with_keywords('Hello', mots2=' my friend')"
   ]
  },
  {
   "cell_type": "code",
   "execution_count": null,
   "metadata": {
    "collapsed": false
   },
   "outputs": [],
   "source": []
  },
  {
   "cell_type": "code",
   "execution_count": null,
   "metadata": {
    "collapsed": false
   },
   "outputs": [],
   "source": []
  },
  {
   "cell_type": "markdown",
   "metadata": {},
   "source": [
    "## Les boucles while"
   ]
  },
  {
   "cell_type": "code",
   "execution_count": null,
   "metadata": {
    "collapsed": false
   },
   "outputs": [],
   "source": [
    "i_iter = 0\n",
    "while i_iter < 5: # on evalue tant que la condition est juste\n",
    "    print i_iter\n",
    "    i_iter += 1 # une autre façon d'écrire i_iter = i_iter + 1\n"
   ]
  },
  {
   "cell_type": "markdown",
   "metadata": {},
   "source": [
    "## Un point fort de python : iterer au sein des iterables \n",
    "Un exemple:"
   ]
  },
  {
   "cell_type": "code",
   "execution_count": null,
   "metadata": {
    "collapsed": false
   },
   "outputs": [],
   "source": [
    "list_to_iterate = [[1,2,3], [4,5,6], [7,8,9]]\n",
    "\n",
    "for inner_list in list_to_iterate:\n",
    "    for element in inner_list:\n",
    "        print element"
   ]
  },
  {
   "cell_type": "markdown",
   "metadata": {},
   "source": [
    "## Les booléen et les condidition"
   ]
  },
  {
   "cell_type": "code",
   "execution_count": null,
   "metadata": {
    "collapsed": false
   },
   "outputs": [],
   "source": [
    "a = 2\n",
    "if a == 0:\n",
    "    print 'le numero vaut zero'\n",
    "elif a == 1: \n",
    "    print 'le numero vaut un'\n",
    "else:\n",
    "    print 'le numero vaut ni zero ni un'"
   ]
  },
  {
   "cell_type": "markdown",
   "metadata": {},
   "source": [
    "les dictionnaires : votre structure par défaut si vous données commencent à devenir compliquées"
   ]
  },
  {
   "cell_type": "code",
   "execution_count": null,
   "metadata": {
    "collapsed": true
   },
   "outputs": [],
   "source": [
    "dict_telefon = {'alex' : '0633', 'marie' : '0755', 'pierre' : '9867'} # basé sur la structure clé : entrée"
   ]
  },
  {
   "cell_type": "code",
   "execution_count": null,
   "metadata": {
    "collapsed": false
   },
   "outputs": [],
   "source": [
    "# pour acceder les elements: \n",
    "print dict_telefon['alex']\n",
    "# pour en ajouter:\n",
    "dict_telefon['alice'] = '4423'"
   ]
  },
  {
   "cell_type": "code",
   "execution_count": null,
   "metadata": {
    "collapsed": false
   },
   "outputs": [],
   "source": [
    "# on lance les appels: \n",
    "for key, item in dict_telefon.items():\n",
    "    print 'J\\'appelle %s avec le numero %s'  %(key, item) # permet d'inserer les elements"
   ]
  },
  {
   "cell_type": "markdown",
   "metadata": {},
   "source": [
    "## Des libraries outils: pickle, os, sys\n",
    "\n",
    "On va dabord afficher notre structure de dossier et créer un nouveau dossier, puis le supprimer"
   ]
  },
  {
   "cell_type": "code",
   "execution_count": null,
   "metadata": {
    "collapsed": false
   },
   "outputs": [],
   "source": [
    "import os\n",
    "#import sys\n",
    "import pickle\n",
    "#help(pickle)\n",
    "print os.getcwd()\n",
    "current_dir = os.getcwd()\n",
    "string_for_new_directory = \"/test_folder_1\"\n",
    "# on va créer un nouveau fichier\n",
    "os.mkdir(current_dir+string_for_new_directory)\n",
    "# on affiche la liste des tous les éléments dans le fichier actuel\n",
    "print os.listdir(current_dir)\n",
    "\n",
    "# on peut aussi le supprimer\n",
    "os.rmdir(current_dir+string_for_new_directory)\n",
    "\n",
    "print os.listdir(current_dir)\n",
    "# le ficher n'est plus là !"
   ]
  },
  {
   "cell_type": "markdown",
   "metadata": {},
   "source": [
    "Maintenant on va enregistrer des objets python à l'aide du module pickle"
   ]
  },
  {
   "cell_type": "code",
   "execution_count": null,
   "metadata": {
    "collapsed": false
   },
   "outputs": [],
   "source": [
    "bonjour_string = 'Bonjour, vous etes toujours la ?'\n",
    "pickle.dump(bonjour_string, file('bonjour_string.pkl', \"wb\"))\n",
    "#help(pickle.dump)\n",
    "print os.listdir(current_dir)\n",
    "\n",
    "quel_string = pickle.load(file('bonjour_string.pkl', \"rb\"))\n",
    "print quel_string\n",
    "\n",
    "# ou plus propre : ça permet de refermer la connection vers le fichier après utilisation\n",
    "with file('bonjour_string.pkl', \"rb\") as file_to_load:\n",
    "    quel_string_2 = pickle.load(file_to_load)\n",
    "    print quel_string_2"
   ]
  },
  {
   "cell_type": "markdown",
   "metadata": {},
   "source": [
    "## La programmation orientée objet"
   ]
  },
  {
   "cell_type": "code",
   "execution_count": null,
   "metadata": {
    "collapsed": true
   },
   "outputs": [],
   "source": [
    "class compte_bancaire(object):\n",
    "    \"\"\"\n",
    "    un compte bancaire\n",
    "    \"\"\"\n",
    "    def __init__(self, name, montant_initial):\n",
    "        \"\"\"\n",
    "        l'initialization, on crée une instance de la classe 'compte_bancaire'\n",
    "        on a besoin du nom et du montant initial\n",
    "        \"\"\"\n",
    "        assert type(name) is str\n",
    "        assert type(montant_initial) is float or type(montant_initial) is int\n",
    "        \n",
    "        self.name = name\n",
    "        self.montant_initial = montant_initial\n",
    "        self.montant_courant = montant_initial\n",
    "        \n",
    "    def depot_darget(self, montant):\n",
    "        self.montant_courant += montant\n",
    "        print 'Vous avez deposer %s euro et votre montant courant et maintant de %s euro' % (montant, self.montant_courant)\n",
    "    def retrait_darget(self, montant):\n",
    "        self.montant_courant -= montant\n",
    "        print 'Vous avez retirer %s euro et votre montant courant et maintant de %s euro' % (montant, self.montant_courant)\n",
    "        if self.montant_courant < 0: \n",
    "            print 'Attention! Vous etes dans le négatif!'\n",
    "\n",
    "class compte_bancaire_gold(compte_bancaire):\n",
    "    def payer_par_carte_de_credit(self, montant):\n",
    "        self.montant_courant -= montant\n",
    "        print 'Vous avez payé avec votre carte %s euro et votre montant courant et maintant de %s euro' % (montant, self.montant_courant)"
   ]
  },
  {
   "cell_type": "code",
   "execution_count": null,
   "metadata": {
    "collapsed": false
   },
   "outputs": [],
   "source": [
    "compte_alex = compte_bancaire('alex', 100)\n",
    "compte_alex.depot_darget(10)\n",
    "compte_alex.retrait_darget(120)\n",
    "compte_alex.payer_par_carte_de_credit(10)"
   ]
  },
  {
   "cell_type": "code",
   "execution_count": null,
   "metadata": {
    "collapsed": false
   },
   "outputs": [],
   "source": [
    "compte_alex.montant_courant"
   ]
  },
  {
   "cell_type": "markdown",
   "metadata": {},
   "source": [
    "## Exercise 1: \n",
    "Ecrire une pemiere fonction qui construit un dictionnaire de longeur N, avec les clés str(i) et i va de 0 a N-1 et les valeurs qui equivant i^3\n",
    "Puis ecrire une deuxieme fonction qui parcours le dictionnaire et qui ajoute à chaque valeurs impaires + 1 (on se retrouve à la fin avec un dictionnaire qui contient que des valeurs paire). \n",
    "Lancer et visualiser pour N = 5, N = 10."
   ]
  },
  {
   "cell_type": "markdown",
   "metadata": {},
   "source": [
    "## Exercise 2: \n",
    "Modifier les dictionnaire dict_telefon et en faire un dictionnaire de dictionnaire, a chaque personne sera associé un numbero de telephone et une adresse mail. Pour les addresse mail utiliser nom@dataspecialiste.ai. \n",
    "Puis ecrire une fonction qui écrit un texte de la forme \n",
    "\"bonjour x, j'ai essayé de vous joindre sous l'adresse xxx et le numero yyyy. Pourriez vous me rappeller svp?\""
   ]
  },
  {
   "cell_type": "markdown",
   "metadata": {},
   "source": [
    "### Pour les rapides: \n",
    "Pour encore aller plus loin créer un fichier appart que vous importez. Google est votre ami pour toute question de programmation!"
   ]
  },
  {
   "cell_type": "code",
   "execution_count": null,
   "metadata": {
    "collapsed": true
   },
   "outputs": [],
   "source": []
  }
 ],
 "metadata": {
  "kernelspec": {
   "display_name": "Python 2",
   "language": "python",
   "name": "python2"
  },
  "language_info": {
   "codemirror_mode": {
    "name": "ipython",
    "version": 2
   },
   "file_extension": ".py",
   "mimetype": "text/x-python",
   "name": "python",
   "nbconvert_exporter": "python",
   "pygments_lexer": "ipython2",
   "version": "2.7.12"
  }
 },
 "nbformat": 4,
 "nbformat_minor": 2
}
