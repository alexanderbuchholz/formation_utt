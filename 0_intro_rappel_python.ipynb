{
 "cells": [
  {
   "cell_type": "markdown",
   "metadata": {},
   "source": [
    "# Rappel / mise à niveau à niveau python pour le data scientist\n",
    "\n",
    "## Alexander Buchholz, alexander.buchholz@ensae.fr, doctorant en fin de thèse à l'ENSAE\n",
    "\n",
    "Les élements de ce cours : https://github.com/alexanderbuchholz/formation_utt\n",
    "\n",
    "Formation de 3 jours à 4 heures\n",
    "* Basé sur des notebook ipython/ jupyter\n",
    "* Rappel de base de python\n",
    "* Calcul numérique avec numpy\n",
    "* Le module scipy pour les distributions\n",
    "* Visualisation avec matplotlib et seaborn\n",
    "* Stocker et traiter ses données avec pandas\n",
    "* Pour aller plus loin: notre premier modèle machine learning en utilisant sklearn\n",
    "\n",
    "Approache interactive:\n",
    "J'explique et vous lancez les programmes en même temps pour voir comment ça fonctionne\n",
    "\n"
   ]
  },
  {
   "cell_type": "markdown",
   "metadata": {},
   "source": [
    "D'autres resources: \n",
    "https://github.com/paris-saclay-cds/python-workshop/blob/master/Day_1_Scientific_Python/01-numpy-introduction.ipynb\n",
    "\n",
    "Le livre \"Python Data Science Handbook\" de Jake VanderPlas, gratuit en ligne, assez complèt\n"
   ]
  },
  {
   "cell_type": "markdown",
   "metadata": {},
   "source": [
    "On utilisera python 2.7\n",
    "\n",
    "Installer python et jupyter sur votre machine:\n",
    "\n",
    "De préference par anaconda : https://www.anaconda.com/\n",
    "\n",
    "# C'est parti ! "
   ]
  },
  {
   "cell_type": "code",
   "execution_count": 3,
   "metadata": {
    "collapsed": false
   },
   "outputs": [
    {
     "name": "stdout",
     "output_type": "stream",
     "text": [
      "Bonjour tout le monde!\n"
     ]
    }
   ],
   "source": [
    "first_string = \"Bonjour tout le monde!\"\n",
    "print(first_string)"
   ]
  },
  {
   "cell_type": "code",
   "execution_count": 4,
   "metadata": {
    "collapsed": false
   },
   "outputs": [
    {
     "data": {
      "text/plain": [
       "str"
      ]
     },
     "execution_count": 4,
     "metadata": {},
     "output_type": "execute_result"
    }
   ],
   "source": [
    "type(first_string)"
   ]
  },
  {
   "cell_type": "markdown",
   "metadata": {},
   "source": [
    "Combien de charactère ? "
   ]
  },
  {
   "cell_type": "code",
   "execution_count": 25,
   "metadata": {
    "collapsed": false
   },
   "outputs": [
    {
     "data": {
      "text/plain": [
       "22"
      ]
     },
     "execution_count": 25,
     "metadata": {},
     "output_type": "execute_result"
    }
   ],
   "source": [
    "len(first_string) # affiche le nombre de charactère"
   ]
  },
  {
   "cell_type": "code",
   "execution_count": 28,
   "metadata": {
    "collapsed": false
   },
   "outputs": [
    {
     "data": {
      "text/plain": [
       "'Bonjour tout le monde! Vous etes prets ?'"
      ]
     },
     "execution_count": 28,
     "metadata": {},
     "output_type": "execute_result"
    }
   ],
   "source": [
    "first_string+\" Vous etes prets ?\" # concatener des strings"
   ]
  },
  {
   "cell_type": "markdown",
   "metadata": {},
   "source": [
    "Les autres types: numeriques, listes, dictionnaires"
   ]
  },
  {
   "cell_type": "code",
   "execution_count": 9,
   "metadata": {
    "collapsed": false
   },
   "outputs": [
    {
     "data": {
      "text/plain": [
       "int"
      ]
     },
     "execution_count": 9,
     "metadata": {},
     "output_type": "execute_result"
    }
   ],
   "source": [
    "a_int = 10\n",
    "type(a_int)"
   ]
  },
  {
   "cell_type": "code",
   "execution_count": 11,
   "metadata": {
    "collapsed": false
   },
   "outputs": [
    {
     "data": {
      "text/plain": [
       "float"
      ]
     },
     "execution_count": 11,
     "metadata": {},
     "output_type": "execute_result"
    }
   ],
   "source": [
    "b_numerique = 2.5\n",
    "type(b_numerique)"
   ]
  },
  {
   "cell_type": "code",
   "execution_count": 12,
   "metadata": {
    "collapsed": false
   },
   "outputs": [
    {
     "data": {
      "text/plain": [
       "4.0"
      ]
     },
     "execution_count": 12,
     "metadata": {},
     "output_type": "execute_result"
    }
   ],
   "source": [
    "a_int/b_numerique"
   ]
  },
  {
   "cell_type": "markdown",
   "metadata": {},
   "source": [
    "Mais attention à la division int/int"
   ]
  },
  {
   "cell_type": "code",
   "execution_count": 13,
   "metadata": {
    "collapsed": false
   },
   "outputs": [
    {
     "data": {
      "text/plain": [
       "2"
      ]
     },
     "execution_count": 13,
     "metadata": {},
     "output_type": "execute_result"
    }
   ],
   "source": [
    "10/4"
   ]
  },
  {
   "cell_type": "markdown",
   "metadata": {},
   "source": [
    "Les listes"
   ]
  },
  {
   "cell_type": "code",
   "execution_count": 20,
   "metadata": {
    "collapsed": false
   },
   "outputs": [
    {
     "data": {
      "text/plain": [
       "(list, 3)"
      ]
     },
     "execution_count": 20,
     "metadata": {},
     "output_type": "execute_result"
    }
   ],
   "source": [
    "first_list = [4, 5., 6]\n",
    "type(first_list), len(first_list)"
   ]
  },
  {
   "cell_type": "markdown",
   "metadata": {},
   "source": [
    "### Mannipuler les listes: "
   ]
  },
  {
   "cell_type": "code",
   "execution_count": 21,
   "metadata": {
    "collapsed": false
   },
   "outputs": [
    {
     "name": "stdout",
     "output_type": "stream",
     "text": [
      "[4, 5.0, 6, 7.0]\n"
     ]
    }
   ],
   "source": [
    "first_list.append(7.)\n",
    "print first_list"
   ]
  },
  {
   "cell_type": "markdown",
   "metadata": {},
   "source": [
    "Un autre piège dans python : "
   ]
  },
  {
   "cell_type": "code",
   "execution_count": 23,
   "metadata": {
    "collapsed": false
   },
   "outputs": [
    {
     "name": "stdout",
     "output_type": "stream",
     "text": [
      "[4, 5.0, 6, 7.0]\n"
     ]
    }
   ],
   "source": [
    "second_list = first_list\n",
    "print(second_list)"
   ]
  },
  {
   "cell_type": "code",
   "execution_count": 24,
   "metadata": {
    "collapsed": false
   },
   "outputs": [
    {
     "name": "stdout",
     "output_type": "stream",
     "text": [
      "['a', 5.0, 6, 7.0]\n"
     ]
    }
   ],
   "source": [
    "second_list[0] = 'a'\n",
    "print first_list"
   ]
  },
  {
   "cell_type": "markdown",
   "metadata": {},
   "source": [
    "second_list \"pointe\" vert first list, on a modifié first list!\n",
    "\n",
    "La compréhension de liste, un outil très pratique !"
   ]
  },
  {
   "cell_type": "code",
   "execution_count": 40,
   "metadata": {
    "collapsed": false
   },
   "outputs": [],
   "source": [
    "list_of_numbers = range(12) # pour gener une sequence\n",
    "list_of_numbers_added = [i_number**2 for i_number in list_of_numbers ]"
   ]
  },
  {
   "cell_type": "code",
   "execution_count": 42,
   "metadata": {
    "collapsed": false
   },
   "outputs": [
    {
     "data": {
      "text/plain": [
       "[0, 1, 4, 9, 16, 25, 36, 49, 64, 81, 100, 121]"
      ]
     },
     "execution_count": 42,
     "metadata": {},
     "output_type": "execute_result"
    }
   ],
   "source": [
    "list_of_numbers_added"
   ]
  },
  {
   "cell_type": "code",
   "execution_count": 44,
   "metadata": {
    "collapsed": false
   },
   "outputs": [
    {
     "data": {
      "text/plain": [
       "[0, 1, 4, 9, 16, 25, 36, 49, 64, 81, 100, 121]"
      ]
     },
     "execution_count": 44,
     "metadata": {},
     "output_type": "execute_result"
    }
   ],
   "source": [
    "# on peut faire la meme chose avec une boucle for:\n",
    "list_of_numbers_added_loop = []\n",
    "for i_number in list_of_numbers:\n",
    "    list_of_numbers_added_loop.append(i_number**2)\n",
    "list_of_numbers_added_loop"
   ]
  },
  {
   "cell_type": "markdown",
   "metadata": {},
   "source": [
    "En python les boucles sont lents !\n",
    "\n",
    "A eviter si possible ! \n",
    "\n",
    "Maintenant les fonctions:"
   ]
  },
  {
   "cell_type": "code",
   "execution_count": 56,
   "metadata": {
    "collapsed": false
   },
   "outputs": [
    {
     "name": "stdout",
     "output_type": "stream",
     "text": [
      "[0, 1, 4, 9, 16, 25, 36, 49, 64, 81, 100, 121]\n",
      "[0, 1, 4, 9, 16, 25, 36, 49, 64, 81, 100, 121]\n"
     ]
    }
   ],
   "source": [
    "# passons par des fonctions maintenant\n",
    "def squared_number_loop(max_number):\n",
    "    list_numbers = []\n",
    "    for i_number in range(max_number):\n",
    "        list_numbers.append(i_number**2)\n",
    "    return list_numbers\n",
    "\n",
    "def squared_number_list_comp(max_number):\n",
    "    list_of_numbers = [i_number**2 for i_number in range(max_number) ]\n",
    "    return list_of_numbers\n",
    "print squared_number_loop(12)\n",
    "print squared_number_list_comp(12)\n",
    "      "
   ]
  },
  {
   "cell_type": "markdown",
   "metadata": {},
   "source": [
    "Comparons la vitesses des deux:"
   ]
  },
  {
   "cell_type": "code",
   "execution_count": 54,
   "metadata": {
    "collapsed": false
   },
   "outputs": [
    {
     "name": "stdout",
     "output_type": "stream",
     "text": [
      "1000000 loops, best of 3: 1.7 µs per loop\n"
     ]
    }
   ],
   "source": [
    "%timeit squared_number_loop(12)"
   ]
  },
  {
   "cell_type": "code",
   "execution_count": 55,
   "metadata": {
    "collapsed": false
   },
   "outputs": [
    {
     "name": "stdout",
     "output_type": "stream",
     "text": [
      "The slowest run took 5.66 times longer than the fastest. This could mean that an intermediate result is being cached.\n",
      "1000000 loops, best of 3: 1.22 µs per loop\n"
     ]
    }
   ],
   "source": [
    "%timeit squared_number_list_comp(12)"
   ]
  }
 ],
 "metadata": {
  "kernelspec": {
   "display_name": "Python 2",
   "language": "python",
   "name": "python2"
  },
  "language_info": {
   "codemirror_mode": {
    "name": "ipython",
    "version": 2
   },
   "file_extension": ".py",
   "mimetype": "text/x-python",
   "name": "python",
   "nbconvert_exporter": "python",
   "pygments_lexer": "ipython2",
   "version": "2.7.12"
  }
 },
 "nbformat": 4,
 "nbformat_minor": 2
}
