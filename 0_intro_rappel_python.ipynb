{
 "cells": [
  {
   "cell_type": "markdown",
   "metadata": {},
   "source": [
    "# Rappel / mise à niveau à niveau python pour le data scientist\n",
    "\n",
    "## Alexander Buchholz, alexander.buchholz@ensae.fr, doctorant en fin de thèse à l'ENSAE\n",
    "\n",
    "Les élements de ce cours : https://github.com/alexanderbuchholz/formation_utt\n",
    "\n",
    "Formation de 3 jours à 4 heures\n",
    "* Basé sur des notebook ipython/ jupyter\n",
    "* Rappel de base de python\n",
    "* Calcul numérique avec numpy\n",
    "* Le module scipy pour les distributions\n",
    "* Visualisation avec matplotlib et seaborn\n",
    "* Stocker et traiter ses données avec pandas\n",
    "* Pour aller plus loin: notre premier modèle machine learning en utilisant sklearn\n",
    "\n",
    "Approache interactive:\n",
    "J'explique et vous lancez les programmes en même temps pour voir comment ça fonctionne\n",
    "\n"
   ]
  },
  {
   "cell_type": "markdown",
   "metadata": {},
   "source": [
    "D'autres resources: \n",
    "https://github.com/paris-saclay-cds/python-workshop/blob/master/Day_1_Scientific_Python/01-numpy-introduction.ipynb\n",
    "\n",
    "Le livre \"Python Data Science Handbook\" de Jake VanderPlas, gratuit en ligne, assez complèt\n"
   ]
  },
  {
   "cell_type": "markdown",
   "metadata": {},
   "source": [
    "On utilisera python 2.7\n",
    "\n",
    "Installer python et jupyter sur votre machine:\n",
    "\n",
    "De préference par anaconda : https://www.anaconda.com/\n",
    "\n"
   ]
  }
 ],
 "metadata": {
  "kernelspec": {
   "display_name": "Python 2",
   "language": "python",
   "name": "python2"
  },
  "language_info": {
   "codemirror_mode": {
    "name": "ipython",
    "version": 2
   },
   "file_extension": ".py",
   "mimetype": "text/x-python",
   "name": "python",
   "nbconvert_exporter": "python",
   "pygments_lexer": "ipython2",
   "version": "2.7.12"
  }
 },
 "nbformat": 4,
 "nbformat_minor": 2
}
